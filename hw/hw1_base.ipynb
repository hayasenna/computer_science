{
 "cells": [
  {
   "cell_type": "markdown",
   "id": "0bcffa65",
   "metadata": {},
   "source": [
    "# ДЗ №1"
   ]
  },
  {
   "cell_type": "markdown",
   "id": "0e599f1b",
   "metadata": {},
   "source": [
    "## Какие здесь будут задачи? \n",
    "Да все, что только можно. Но без зверств, хардов с leetcode не будет)"
   ]
  },
  {
   "cell_type": "code",
   "execution_count": null,
   "id": "3002a259",
   "metadata": {},
   "outputs": [],
   "source": [
    "from typing import Any, Tuple, Union, List"
   ]
  },
  {
   "cell_type": "markdown",
   "id": "ebe3fd2d",
   "metadata": {},
   "source": [
    "## №1\n",
    "Написать функцию которая возвращает сумму чисел от `1` до `n` включительно."
   ]
  },
  {
   "cell_type": "code",
   "execution_count": null,
   "id": "db55af55",
   "metadata": {},
   "outputs": [],
   "source": [
    "class Solution:\n",
    "    @staticmethod\n",
    "    def summarize_sequence(n: int) -> int:\n",
    "        # your code here:\n",
    "        ...\n",
    "    "
   ]
  },
  {
   "cell_type": "code",
   "execution_count": null,
   "id": "3373fe4a",
   "metadata": {},
   "outputs": [],
   "source": [
    "sol = Solution()\n",
    "\n",
    "assert sol.summarize_sequence(11) == 66, \"Что-то не то..\"\n",
    "assert sol.summarize_sequence(38) == 741, \"Что-то не то..\"\n",
    "assert sol.summarize_sequence(1000) == 500500, \"Что-то не то..\"\n",
    "\n",
    "print(\"Все верно!\")"
   ]
  },
  {
   "cell_type": "markdown",
   "id": "10f6bca8",
   "metadata": {},
   "source": [
    "## №2\n",
    "Напишите функцию, которая будет находить корни квадратного уравнения. Если их несколько, то нужно вернуть оба корня в порядке возрастания. Если он один - `просто вернуть его`. Если корней нет  - вернуть `None` "
   ]
  },
  {
   "cell_type": "code",
   "execution_count": null,
   "id": "eba1dd52",
   "metadata": {},
   "outputs": [],
   "source": [
    "class Solution:\n",
    "    @staticmethod\n",
    "    def square_equation(a: int, b: int, c: int) -> Union[Tuple[float, float], float, None]:\n",
    "        # your code here:\n",
    "        ..."
   ]
  },
  {
   "cell_type": "code",
   "execution_count": null,
   "id": "5718f1e4",
   "metadata": {},
   "outputs": [],
   "source": [
    "sol = Solution()\n",
    "\n",
    "assert sol.square_equation(2, 3, 10) == None, \"Что-то не то..\"\n",
    "assert sol.square_equation(0, 0, 0) == 0, \"Что-то не то..\"\n",
    "assert sol.square_equation(5, 3, -26) == (2.0, -2.6), \"Что-то не то..\"\n",
    "print(\"Все верно!\")"
   ]
  },
  {
   "cell_type": "markdown",
   "id": "210b0654",
   "metadata": {},
   "source": [
    "## №3\n",
    "Написать функцию, которая возвращает сумму цифр числа $n$.  \n",
    "Условия:    \n",
    "$n \\in \\mathbb{Z}$"
   ]
  },
  {
   "cell_type": "code",
   "execution_count": null,
   "id": "07831114",
   "metadata": {},
   "outputs": [],
   "source": [
    "class Solution:\n",
    "    @staticmethod\n",
    "    def summarize_numbers(n: int) -> int:\n",
    "       # your code here:\n",
    "        ..."
   ]
  },
  {
   "cell_type": "code",
   "execution_count": null,
   "id": "ee3217cf",
   "metadata": {},
   "outputs": [],
   "source": [
    "sol = Solution()\n",
    "\n",
    "assert sol.summarize_numbers(123) == 6, \"Что-то не то..\"\n",
    "assert sol.summarize_numbers(-555) == 15, \"Что-то не то..\"\n",
    "assert sol.summarize_numbers(1000) == 1, \"Что-то не то..\"\n",
    "\n",
    "print(\"Все верно!\")"
   ]
  },
  {
   "cell_type": "markdown",
   "id": "7c2c67ab",
   "metadata": {},
   "source": [
    "## №4\n",
    "\n",
    "Ваша задача - реализовать функцию, которая будет получать на вход целое число `n`, и в зависимости от того, является ли `n` - **простым** или не является, возвращать **True** или **False**."
   ]
  },
  {
   "cell_type": "code",
   "execution_count": null,
   "id": "73ef59aa",
   "metadata": {},
   "outputs": [],
   "source": [
    "class Solution:\n",
    "    @staticmethod\n",
    "    def isPrime(n: int) -> bool:\n",
    "        # your code here:\n",
    "        ..."
   ]
  },
  {
   "cell_type": "code",
   "execution_count": null,
   "id": "4b0cbba3",
   "metadata": {},
   "outputs": [],
   "source": [
    "sol = Solution()\n",
    "\n",
    "assert sol.isPrime(11) == True, \"Что-то не то..\"\n",
    "assert sol.isPrime(10) == False, \"Что-то не то..\"\n",
    "assert sol.isPrime(65537) == True, \"Что-то не то..\"\n",
    "\n",
    "print(\"Все верно!\")"
   ]
  },
  {
   "cell_type": "markdown",
   "id": "4d575a0c",
   "metadata": {},
   "source": [
    "## №5\n",
    "Напишите функцию, возвращающую `список уникальных элементов` исходного массива"
   ]
  },
  {
   "cell_type": "code",
   "execution_count": null,
   "id": "bede7ee7",
   "metadata": {},
   "outputs": [],
   "source": [
    "class Solution:\n",
    "    @staticmethod\n",
    "    def find_unique(array: List[Any]) -> List[Any]:\n",
    "       # your code here:\n",
    "        ..."
   ]
  },
  {
   "cell_type": "code",
   "execution_count": null,
   "id": "185f2015",
   "metadata": {},
   "outputs": [],
   "source": [
    "sol = Solution()\n",
    "\n",
    "\n",
    "assert sol.find_unique([1, 1, 1, 1, 1, 2, 3, 2, 3, 4, 5, 6, 7, 3, 4, 6, 7, 3, 100]) == [1, 2, 3, 4, 5, 6, 7, 100], \"Что-то не то..\"\n",
    "assert sol.find_unique([0, 1, 0, 3, 777, 228]) == [0, 1, 3, 228, 777], \"Что-то не то..\"\n",
    "assert sol.find_unique([\"bbbbbbb\", \"aaaaaaaa\", \"skebob\", \"skebob\"]) == [\"aaaaaaaa\", \"skebob\", \"bbbbbbb\"], \"Что-то не то..\"\n",
    "print(\"Все верно!\")"
   ]
  },
  {
   "cell_type": "markdown",
   "id": "b53540e9",
   "metadata": {},
   "source": [
    "## №6\n",
    "\n",
    "Напишите функцию, которая определяет, состоит ли введённое двухзначное положительное число из одинаковых цифр. Если да - функция должна вернуть `True`, иначе `False`.\n",
    "\n"
   ]
  },
  {
   "cell_type": "code",
   "execution_count": null,
   "id": "8ab6fcb8",
   "metadata": {},
   "outputs": [],
   "source": [
    "class Solution:\n",
    "    @staticmethod\n",
    "    def conditional_operator(n: int) -> bool:\n",
    "        # your code here:\n",
    "        ..."
   ]
  },
  {
   "cell_type": "code",
   "execution_count": null,
   "id": "6f70f1f9",
   "metadata": {},
   "outputs": [],
   "source": [
    "sol = Solution()\n",
    "\n",
    "assert sol.conditional_operator(33) == True, \"Что-то не то!\"\n",
    "assert sol.conditional_operator(89) == False, \"Что-то не то!\"\n",
    "print('Всё верно!')"
   ]
  }
 ],
 "metadata": {
  "kernelspec": {
   "display_name": "base",
   "language": "python",
   "name": "python3"
  },
  "language_info": {
   "codemirror_mode": {
    "name": "ipython",
    "version": 3
   },
   "file_extension": ".py",
   "mimetype": "text/x-python",
   "name": "python",
   "nbconvert_exporter": "python",
   "pygments_lexer": "ipython3",
   "version": "3.12.4"
  }
 },
 "nbformat": 4,
 "nbformat_minor": 5
}
